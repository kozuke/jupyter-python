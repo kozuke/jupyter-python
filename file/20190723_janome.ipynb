{
 "cells": [
  {
   "cell_type": "code",
   "execution_count": 2,
   "metadata": {},
   "outputs": [
    {
     "name": "stdout",
     "output_type": "stream",
     "text": [
      "庭\t名詞,一般,*,*,*,*,庭,ニワ,ニワ\n",
      "に\t助詞,格助詞,一般,*,*,*,に,ニ,ニ\n",
      "は\t助詞,係助詞,*,*,*,*,は,ハ,ワ\n",
      "二\t名詞,数,*,*,*,*,二,ニ,ニ\n",
      "羽\t名詞,接尾,助数詞,*,*,*,羽,ワ,ワ\n",
      "鶏\t名詞,一般,*,*,*,*,鶏,ニワトリ,ニワトリ\n",
      "が\t助詞,格助詞,一般,*,*,*,が,ガ,ガ\n",
      "いる\t動詞,自立,*,*,一段,基本形,いる,イル,イル\n",
      "。\t記号,句点,*,*,*,*,。,。,。\n"
     ]
    }
   ],
   "source": [
    "from janome.tokenizer import Tokenizer\n",
    "t = Tokenizer()\n",
    "malist = t.tokenize(\"庭には二羽鶏がいる。\")\n",
    "for n in malist:\n",
    "    print(n)"
   ]
  },
  {
   "cell_type": "code",
   "execution_count": null,
   "metadata": {},
   "outputs": [],
   "source": []
  }
 ],
 "metadata": {
  "kernelspec": {
   "display_name": "Python 3",
   "language": "python",
   "name": "python3"
  },
  "language_info": {
   "codemirror_mode": {
    "name": "ipython",
    "version": 3
   },
   "file_extension": ".py",
   "mimetype": "text/x-python",
   "name": "python",
   "nbconvert_exporter": "python",
   "pygments_lexer": "ipython3",
   "version": "3.7.3"
  }
 },
 "nbformat": 4,
 "nbformat_minor": 2
}
